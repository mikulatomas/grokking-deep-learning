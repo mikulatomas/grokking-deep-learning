{
 "cells": [
  {
   "cell_type": "code",
   "execution_count": 107,
   "metadata": {},
   "outputs": [],
   "source": [
    "from init_mnist import init, load\n",
    "import numpy as np\n",
    "\n",
    "np.random.seed(1)"
   ]
  },
  {
   "cell_type": "code",
   "execution_count": 114,
   "metadata": {},
   "outputs": [],
   "source": [
    "# in case that dataset is missing or pickle is broken uncomment this\n",
    "# init()\n",
    "\n",
    "x_train, y_train, x_test, y_test = load()\n",
    "\n",
    "# take first 1000 samples\n",
    "x_train = x_train[0:1000]\n",
    "y_train = y_train[0:1000]\n",
    "\n",
    "# transform labels from [2] to [0,0,1,0,0,0,0,0,0,0]\n",
    "OUT_CLASSES = 10\n",
    "\n",
    "transformed_y_train = []\n",
    "\n",
    "for y_label in y_train:\n",
    "    zero = np.zeros((OUT_CLASSES,))\n",
    "    zero[y_label] = 1\n",
    "    transformed_y_train.append(zero)\n",
    "\n",
    "y_train = transformed_y_train\n",
    "\n",
    "transformed_y_test = []\n",
    "\n",
    "for y_label in y_test:\n",
    "    zero = np.zeros((OUT_CLASSES,))\n",
    "    zero[y_label] = 1\n",
    "    transformed_y_test.append(zero)\n",
    "\n",
    "y_test = transformed_y_test\n",
    "\n",
    "# normalize input, avoid divergence\n",
    "x_train = x_train / 255\n",
    "x_test = x_test / 255\n",
    "\n",
    "# prepare input for conv layer\n",
    "x_train = x_train.reshape(x_train.shape[0], 28, 28)\n",
    "x_test = x_test.reshape(x_test.shape[0], 28, 28)"
   ]
  },
  {
   "cell_type": "code",
   "execution_count": 115,
   "metadata": {},
   "outputs": [
    {
     "data": {
      "text/plain": [
       "1000"
      ]
     },
     "execution_count": 115,
     "metadata": {},
     "output_type": "execute_result"
    }
   ],
   "source": [
    "len(x_train[:,0:5,0:5])"
   ]
  },
  {
   "cell_type": "code",
   "execution_count": 116,
   "metadata": {},
   "outputs": [
    {
     "data": {
      "text/plain": [
       "array([[0.12531601, 0.36466024, 0.15318025],\n",
       "       [0.85370446, 0.19901288, 0.37421261],\n",
       "       [0.09101587, 0.42983238, 0.34417389]])"
      ]
     },
     "execution_count": 116,
     "metadata": {},
     "output_type": "execute_result"
    }
   ],
   "source": [
    "a =np.random.rand(10,10)\n",
    "a[2:5,2:5]"
   ]
  },
  {
   "cell_type": "code",
   "execution_count": 117,
   "metadata": {},
   "outputs": [],
   "source": [
    "def tanh(x):\n",
    "    return np.tanh(x)\n",
    "\n",
    "def tanh2deriv(output):\n",
    "    return 1 - (output ** 2)\n",
    "\n",
    "def softmax(x):\n",
    "    temp = np.exp(x)\n",
    "    return temp / np.sum(temp, axis=1, keepdims=True)\n",
    "\n",
    "def softmax2deriv(output):\n",
    "    return output / output.shape[0]"
   ]
  },
  {
   "cell_type": "code",
   "execution_count": 144,
   "metadata": {},
   "outputs": [],
   "source": [
    "BATCH_SIZE = 128\n",
    "ALPHA = 2\n",
    "EPOCHS = 100\n",
    "\n",
    "INPUT_ROWS = 28\n",
    "INPUT_COLUMNS = 28\n",
    "\n",
    "KERNEL_ROWS = 3\n",
    "KERNEL_COLUMNS = 3\n",
    "KERNEL_COUNT = 16\n",
    "OUTPUT_SIZE = 10\n",
    "\n",
    "NUMBER_OF_SAMPLES_PER_IMAGE = (INPUT_ROWS - KERNEL_ROWS) * (INPUT_COLUMNS - KERNEL_COLUMNS)\n",
    "\n",
    "# (9, 16)\n",
    "kernels = 0.02 * np.random.rand(KERNEL_ROWS * KERNEL_COLUMNS, KERNEL_COUNT) - 0.01\n",
    "\n",
    "# (25*25*16, OUTPUT_SIZE)\n",
    "weights_1_2 = 0.02 * np.random.rand(NUMBER_OF_SAMPLES_PER_IMAGE * KERNEL_COUNT, OUTPUT_SIZE) - 0.01\n",
    "\n",
    "\n",
    "def get_sections_from_input(input_data):\n",
    "    sections = []\n",
    "    \n",
    "    for row in range(INPUT_ROWS - KERNEL_ROWS):\n",
    "        for column in range(INPUT_COLUMNS - KERNEL_COLUMNS):\n",
    "            section = input_data[:, row:row + KERNEL_ROWS, column:column + KERNEL_COLUMNS]\n",
    "            \n",
    "            # extend by one axis for future concatenation\n",
    "            sections.append(section.reshape(-1,1,KERNEL_ROWS, KERNEL_COLUMNS))\n",
    "    \n",
    "    return sections\n",
    "\n",
    "def predict(input_data, kernels, weights_1_2):\n",
    "    # list of len 25x25 of (128, 3, 3)\n",
    "    sections = get_sections_from_input(input_data)\n",
    "    \n",
    "    # (625, 128, 3, 3)\n",
    "    sections_array = np.array(sections)\n",
    "    \n",
    "    # reshape to (80 000, 9) 625*128 = 80k\n",
    "    input_flattened = sections_array.reshape(-1, KERNEL_ROWS * KERNEL_COLUMNS)\n",
    "    \n",
    "    # reshape to (128, 25*25*16)\n",
    "    layer_1 = input_flattened.dot(kernels).reshape(input_data.shape[0], -1)\n",
    "    layer_1 = tanh(layer_1)\n",
    "    \n",
    "    dropout_mask = np.random.randint(2, size=layer_1.shape)\n",
    "    layer_1 = layer_1 * dropout_mask * 2\n",
    "    \n",
    "    layer_2 = layer_1.dot(weights_1_2)\n",
    "    layer_2 = softmax(layer_2)\n",
    "    \n",
    "    return layer_2\n",
    "    \n",
    "def accuracy(x_input, y_input, kernels, weights_1_2):\n",
    "    prediction = predict(x_input, kernels, weights_1_2)\n",
    "    \n",
    "    match = 0\n",
    "    for predicted, label in zip(prediction, y_input):\n",
    "        if np.argmax(predicted) == np.argmax(label):\n",
    "            match += 1\n",
    "\n",
    "    return match / len(prediction)  \n",
    "\n",
    "def train(x_train, y_train, kernels, weights_1_2):\n",
    "    for epoch in range(EPOCHS):\n",
    "        print(f\"Epoch: {epoch}\")\n",
    "        for batch_id in range(x_train.shape[0] // BATCH_SIZE):\n",
    "            batch_index_start = batch_id * BATCH_SIZE\n",
    "            batch_index_end = batch_index_start + BATCH_SIZE\n",
    "\n",
    "            # (128, 28, 28)\n",
    "            x_train_batch = x_train[batch_index_start:batch_index_end]\n",
    "            y_train_batch = y_train[batch_index_start:batch_index_end]\n",
    "\n",
    "            # list of len 25x25 of (128, 1, 3, 3)\n",
    "            sections = get_sections_from_input(x_train_batch)\n",
    "            \n",
    "            # concatenate sections by axis=1\n",
    "            # (128, 625, 3, 3)\n",
    "            sections_array = np.concatenate(sections, axis=1)\n",
    "\n",
    "            # reshape to (80 000, 9) 625*128 = 80k\n",
    "            input_flattened = sections_array.reshape(-1, KERNEL_ROWS * KERNEL_COLUMNS)\n",
    "            \n",
    "            # reshape to (128, 25*25*16)\n",
    "            layer_1 = input_flattened.dot(kernels).reshape(x_train_batch.shape[0], -1)\n",
    "            layer_1 = tanh(layer_1)\n",
    "\n",
    "            dropout_mask = np.random.randint(2, size=layer_1.shape)\n",
    "            layer_1 = layer_1 * dropout_mask * 2\n",
    "\n",
    "            layer_2 = layer_1.dot(weights_1_2)\n",
    "            layer_2 = softmax(layer_2)\n",
    "\n",
    "            # backpropagation\n",
    "            # BATCH_SIZE because delta is calculated from number of BATCH_SIZE samples\n",
    "            # (BATCH_SIZE, 10)\n",
    "            layer_2_delta = softmax2deriv((y_train_batch - layer_2)) / BATCH_SIZE\n",
    "\n",
    "            # (128, 25*25*16)\n",
    "            layer_1_delta = layer_2_delta.dot(weights_1_2.T)\n",
    "            layer_1_delta = layer_1_delta * tanh2deriv(layer_1)\n",
    "            layer_1_delta *= dropout_mask\n",
    "\n",
    "            # weighted delta - how much network misses because of wrong weights\n",
    "            # (25*25*16, OUTPUT_SIZE)\n",
    "            weighted_delta_1_2 = layer_1.T.dot(layer_2_delta)\n",
    "            weights_1_2 -= ALPHA * weighted_delta_1_2\n",
    "\n",
    "            # weighted delta - how much network misses because of wrong weights\n",
    "            # (9, 80 000) * (80 000, 16)\n",
    "            weighted_delta_kernels = input_flattened.T.dot(layer_1_delta.reshape(-1, KERNEL_COUNT))\n",
    "            kernels -= ALPHA * weighted_delta_kernels\n",
    "   \n",
    "        print(f\"Train acc: {accuracy(x_train, y_train, kernels, weights_1_2)}\")\n",
    "        print(f\"Test acc: {accuracy(x_test, y_test, kernels, weights_1_2)}\")\n",
    "        \n",
    "    return kernels, weights_1_2"
   ]
  },
  {
   "cell_type": "code",
   "execution_count": null,
   "metadata": {},
   "outputs": [
    {
     "name": "stdout",
     "output_type": "stream",
     "text": [
      "Epoch: 0\n",
      "Train acc: 0.092\n",
      "Test acc: 0.1013\n",
      "Epoch: 1\n",
      "Train acc: 0.096\n",
      "Test acc: 0.1049\n",
      "Epoch: 2\n",
      "Train acc: 0.108\n",
      "Test acc: 0.1051\n",
      "Epoch: 3\n",
      "Train acc: 0.097\n",
      "Test acc: 0.0988\n",
      "Epoch: 4\n",
      "Train acc: 0.099\n",
      "Test acc: 0.1067\n",
      "Epoch: 5\n",
      "Train acc: 0.104\n",
      "Test acc: 0.1035\n",
      "Epoch: 6\n",
      "Train acc: 0.109\n",
      "Test acc: 0.1047\n",
      "Epoch: 7\n",
      "Train acc: 0.087\n",
      "Test acc: 0.1035\n",
      "Epoch: 8\n",
      "Train acc: 0.108\n",
      "Test acc: 0.1045\n",
      "Epoch: 9\n",
      "Train acc: 0.094\n",
      "Test acc: 0.1021\n",
      "Epoch: 10\n",
      "Train acc: 0.106\n",
      "Test acc: 0.1029\n",
      "Epoch: 11\n",
      "Train acc: 0.116\n",
      "Test acc: 0.1095\n",
      "Epoch: 12\n",
      "Train acc: 0.116\n",
      "Test acc: 0.1094\n",
      "Epoch: 13\n",
      "Train acc: 0.102\n",
      "Test acc: 0.1108\n",
      "Epoch: 14\n",
      "Train acc: 0.115\n"
     ]
    }
   ],
   "source": [
    "kernels, weights_1_2 = train(x_train, y_train, kernels, weights_1_2)"
   ]
  },
  {
   "cell_type": "code",
   "execution_count": 43,
   "metadata": {},
   "outputs": [
    {
     "data": {
      "text/plain": [
       "[<matplotlib.lines.Line2D at 0x11f27c320>]"
      ]
     },
     "execution_count": 43,
     "metadata": {},
     "output_type": "execute_result"
    },
    {
     "data": {
      "image/png": "[encoded data removed]",
      "text/plain": [
       "<Figure size 432x288 with 1 Axes>"
      ]
     },
     "metadata": {
      "needs_background": "light"
     },
     "output_type": "display_data"
    }
   ],
   "source": [
    "from matplotlib.pyplot import plot\n",
    "\n",
    "# plot history and see generalization\n",
    "plot(list(range(len(acc_history))), acc_history, '-')\n",
    "plot(list(range(len(test_history))), test_history, 'g-')"
   ]
  },
  {
   "cell_type": "code",
   "execution_count": null,
   "metadata": {},
   "outputs": [],
   "source": []
  }
 ],
 "metadata": {
  "kernelspec": {
   "display_name": "Python 3",
   "language": "python",
   "name": "python3"
  },
  "language_info": {
   "codemirror_mode": {
    "name": "ipython",
    "version": 3
   },
   "file_extension": ".py",
   "mimetype": "text/x-python",
   "name": "python",
   "nbconvert_exporter": "python",
   "pygments_lexer": "ipython3",
   "version": "3.7.7"
  }
 },
 "nbformat": 4,
 "nbformat_minor": 2
}
