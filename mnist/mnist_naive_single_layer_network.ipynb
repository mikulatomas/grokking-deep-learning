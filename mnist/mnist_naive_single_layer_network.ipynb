{
 "cells": [
  {
   "cell_type": "code",
   "execution_count": 14,
   "metadata": {},
   "outputs": [],
   "source": [
    "from init_mnist import init, load\n",
    "import numpy as np"
   ]
  },
  {
   "cell_type": "code",
   "execution_count": 15,
   "metadata": {},
   "outputs": [],
   "source": [
    "# in case that dataset is missing or pickle is broken uncomment this\n",
    "# init()\n",
    "\n",
    "x_train, y_train, x_test, y_test = load()\n",
    "\n",
    "# take first 1000 samples\n",
    "x_train = x_train\n",
    "y_train = y_train\n",
    "\n",
    "# transform labels from [2] to [0,0,1,0,0,0,0,0,0,0]\n",
    "OUT_CLASSES = 10\n",
    "\n",
    "transformed_y_train = []\n",
    "\n",
    "for y_label in y_train:\n",
    "    zero = np.zeros((OUT_CLASSES,))\n",
    "    zero[y_label] = 1\n",
    "    transformed_y_train.append(zero)\n",
    "\n",
    "y_train = transformed_y_train\n",
    "\n",
    "transformed_y_test = []\n",
    "\n",
    "for y_label in y_test:\n",
    "    zero = np.zeros((OUT_CLASSES,))\n",
    "    zero[y_label] = 1\n",
    "    transformed_y_test.append(zero)\n",
    "\n",
    "y_test = transformed_y_test\n",
    "\n",
    "# normalize input, avoid divergence\n",
    "x_train = x_train / 255\n",
    "x_test = x_test / 255"
   ]
  },
  {
   "cell_type": "code",
   "execution_count": 16,
   "metadata": {},
   "outputs": [],
   "source": [
    "def predict(input_data, weights):\n",
    "    return np.dot(input_data, weights)\n",
    "\n",
    "# calculate accuracy\n",
    "def accuracy(x_train, y_train, weights):\n",
    "    match = 0\n",
    "    for input_, label in zip(x_train, y_train):\n",
    "        if np.argmax(predict(input_, weights)) == np.argmax(label):\n",
    "            match += 1\n",
    "\n",
    "    return match / len(x_train)"
   ]
  },
  {
   "cell_type": "code",
   "execution_count": 17,
   "metadata": {},
   "outputs": [
    {
     "data": {
      "text/plain": [
       "array([ -1.26875171,  -6.75527365,  -0.90408115,   5.98261896,\n",
       "        -5.10040067,   1.03973048,   0.84053591,  -6.34240481,\n",
       "         8.83118332, -18.03176909])"
      ]
     },
     "execution_count": 17,
     "metadata": {},
     "output_type": "execute_result"
    }
   ],
   "source": [
    "# random weights from range -1 to 1\n",
    "init_weights = 2 * np.random.rand(x_train.shape[1], 10) - 1\n",
    "\n",
    "predict(x_train[0], init_weights)"
   ]
  },
  {
   "cell_type": "code",
   "execution_count": 20,
   "metadata": {},
   "outputs": [],
   "source": [
    "def train(train_data, train_labels, init_weights, alpha, number_of_epoch):\n",
    "    weights = init_weights\n",
    "    print(\"Epoch:\", end = '')\n",
    "    \n",
    "    acc_history = [accuracy(x_train, y_train, weights)]\n",
    "    test_history = [accuracy(x_test, y_test, weights)]\n",
    "    \n",
    "    for i in range(number_of_epoch):\n",
    "        print(\".\", end = '')\n",
    "        for input_data, expected_data in zip(train_data, train_labels):\n",
    "            # get prediction\n",
    "            result = predict(input_data, weights)\n",
    "\n",
    "            # delta between prediction and expected result -> vector\n",
    "            delta = result - expected_data\n",
    "\n",
    "            # mean square error -> vector\n",
    "            error = delta ** 2\n",
    "\n",
    "            # update weights via gradient descent\n",
    "            weights = weights - alpha * np.dot(np.atleast_2d(input_data).T, np.atleast_2d(delta))\n",
    "    \n",
    "        acc_history.append(accuracy(x_train, y_train, weights))\n",
    "        test_history.append(accuracy(x_test, y_test, weights))\n",
    "        \n",
    "        # Early stopping\n",
    "#         if (acc_history[i+1] - acc_history[i]) < 0.001:\n",
    "#             print(\"Early stopping!\")\n",
    "#             break\n",
    "\n",
    "    return weights, acc_history, test_history"
   ]
  },
  {
   "cell_type": "code",
   "execution_count": 21,
   "metadata": {},
   "outputs": [
    {
     "name": "stdout",
     "output_type": "stream",
     "text": [
      "Epoch:...................................................................................................."
     ]
    },
    {
     "data": {
      "text/plain": [
       "(0.8073333333333333, 0.8114)"
      ]
     },
     "execution_count": 21,
     "metadata": {},
     "output_type": "execute_result"
    }
   ],
   "source": [
    "weights = init_weights\n",
    "\n",
    "weights, acc_history, test_history = train(x_train, y_train, weights, 0.0001, 100)\n",
    "\n",
    "(acc_history[-1], test_history[-1])"
   ]
  },
  {
   "cell_type": "code",
   "execution_count": 24,
   "metadata": {},
   "outputs": [
    {
     "data": {
      "text/plain": [
       "[<matplotlib.lines.Line2D at 0x10df74b38>]"
      ]
     },
     "execution_count": 24,
     "metadata": {},
     "output_type": "execute_result"
    },
    {
     "data": {
      "image/png": "[encoded data removed]",
      "text/plain": [
       "<Figure size 432x288 with 1 Axes>"
      ]
     },
     "metadata": {
      "needs_background": "light"
     },
     "output_type": "display_data"
    }
   ],
   "source": [
    "from matplotlib.pyplot import plot\n",
    "\n",
    "# plot history and see poor generalization\n",
    "plot(list(range(len(acc_history))), acc_history, '-')\n",
    "plot(list(range(len(test_history))), test_history, 'g-')"
   ]
  },
  {
   "cell_type": "code",
   "execution_count": null,
   "metadata": {},
   "outputs": [],
   "source": []
  }
 ],
 "metadata": {
  "kernelspec": {
   "display_name": "Python 3.7.3 64-bit",
   "language": "python",
   "name": "python37364bit5f89873530d548e587a26d547ff3b9fd"
  },
  "language_info": {
   "codemirror_mode": {
    "name": "ipython",
    "version": 3
   },
   "file_extension": ".py",
   "mimetype": "text/x-python",
   "name": "python",
   "nbconvert_exporter": "python",
   "pygments_lexer": "ipython3",
   "version": "3.7.3"
  }
 },
 "nbformat": 4,
 "nbformat_minor": 2
}
